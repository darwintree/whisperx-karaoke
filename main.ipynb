{
 "cells": [
  {
   "cell_type": "code",
   "execution_count": null,
   "metadata": {},
   "outputs": [],
   "source": [
    "%pip install git+https://github.com/m-bain/whisperx.git\n",
    "%pip install whisperx-karaoke"
   ]
  },
  {
   "cell_type": "code",
   "execution_count": 1,
   "metadata": {},
   "outputs": [],
   "source": [
    "dir_path = \"./raw\"\n",
    "device = \"cuda\"\n",
    "language = \"ja\"\n",
    "offset = 0"
   ]
  },
  {
   "cell_type": "code",
   "execution_count": null,
   "metadata": {},
   "outputs": [],
   "source": [
    "import os\n",
    "import whisperx\n",
    "from whisperx_karaoke.resolver import parse_file\n",
    "from whisperx_karaoke.ass import segments_to_ass_text\n",
    "from whisperx_karaoke.cli import get_audio_and_song_path, use_lrc_start_and_end\n",
    "\n",
    "audio_path, lrc_path = get_audio_and_song_path(dir_path)\n",
    "audio = whisperx.load_audio(audio_path)\n",
    "cleared = parse_file(lrc_path, language, offset)\n",
    "# print(cleared)\n",
    "for i in range(len(cleared[\"segments\"])):\n",
    "    index = len(cleared[\"segments\"]) - 1 - i\n",
    "    if cleared[\"segments\"][index][\"text\"].strip() == \"\":\n",
    "        # print(i)\n",
    "        cleared[\"segments\"].pop(index)\n",
    "model_a, metadata = whisperx.load_align_model(\n",
    "    language_code=cleared[\"language\"], device=device\n",
    ")\n",
    "result = whisperx.align(\n",
    "    cleared[\"segments\"],\n",
    "    model_a,\n",
    "    metadata,\n",
    "    audio,\n",
    "    device,\n",
    "    return_char_alignments=False,\n",
    ")\n",
    "\n",
    "use_lrc_start_and_end(result[\"segments\"], cleared[\"segments\"])\n",
    "\n",
    "ass_output = segments_to_ass_text(result[\"segments\"])\n",
    "ass_filename = os.path.join(dir_path, f\"{os.path.basename(audio_path)}.ass\")\n",
    "with open(ass_filename, \"w\", encoding=\"utf-8\") as f:\n",
    "    f.write(ass_output)\n",
    "    print(\"ASS file saved to: \", ass_filename)"
   ]
  }
 ],
 "metadata": {
  "kernelspec": {
   "display_name": "whisperx-karaoke",
   "language": "python",
   "name": "python3"
  },
  "language_info": {
   "codemirror_mode": {
    "name": "ipython",
    "version": 3
   },
   "file_extension": ".py",
   "mimetype": "text/x-python",
   "name": "python",
   "nbconvert_exporter": "python",
   "pygments_lexer": "ipython3",
   "version": "3.10.14"
  }
 },
 "nbformat": 4,
 "nbformat_minor": 2
}
